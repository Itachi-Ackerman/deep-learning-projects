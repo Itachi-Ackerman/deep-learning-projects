{
 "cells": [
  {
   "cell_type": "markdown",
   "metadata": {},
   "source": [
    "Artificial Neural Network"
   ]
  },
  {
   "cell_type": "markdown",
   "metadata": {},
   "source": [
    "Part 1 - Data Preprocessing"
   ]
  },
  {
   "cell_type": "markdown",
   "metadata": {},
   "source": [
    "Importing the libraries"
   ]
  },
  {
   "cell_type": "code",
   "execution_count": 1,
   "metadata": {},
   "outputs": [],
   "source": [
    "import numpy as np\n",
    "import matplotlib.pyplot as plt\n",
    "import pandas as pd"
   ]
  },
  {
   "cell_type": "markdown",
   "metadata": {},
   "source": [
    "Importing the dataset"
   ]
  },
  {
   "cell_type": "code",
   "execution_count": 2,
   "metadata": {},
   "outputs": [],
   "source": [
    "dataset = pd.read_csv('Churn_Modelling.csv')\n",
    "X = dataset.iloc[:, 3:13]\n",
    "y = dataset.iloc[:, 13]"
   ]
  },
  {
   "cell_type": "markdown",
   "metadata": {},
   "source": [
    "reate dummy variables"
   ]
  },
  {
   "cell_type": "code",
   "execution_count": 3,
   "metadata": {},
   "outputs": [],
   "source": [
    "geography=pd.get_dummies(X[\"Geography\"],drop_first=True)\n",
    "gender=pd.get_dummies(X['Gender'],drop_first=True)"
   ]
  },
  {
   "cell_type": "markdown",
   "metadata": {},
   "source": [
    " Concatenate the Data Frames"
   ]
  },
  {
   "cell_type": "code",
   "execution_count": 4,
   "metadata": {},
   "outputs": [],
   "source": [
    "X=pd.concat([X,geography,gender],axis=1)"
   ]
  },
  {
   "cell_type": "markdown",
   "metadata": {},
   "source": [
    " Drop Unnecessary columns"
   ]
  },
  {
   "cell_type": "code",
   "execution_count": 5,
   "metadata": {},
   "outputs": [],
   "source": [
    "X=X.drop(['Geography','Gender'],axis=1)"
   ]
  },
  {
   "cell_type": "markdown",
   "metadata": {},
   "source": [
    "Splitting the dataset into the Training set and Test set"
   ]
  },
  {
   "cell_type": "code",
   "execution_count": 6,
   "metadata": {},
   "outputs": [],
   "source": [
    "from sklearn.model_selection import train_test_split\n",
    "X_train, X_test, y_train, y_test = train_test_split(X, y, test_size = 0.2, random_state = 0)"
   ]
  },
  {
   "cell_type": "markdown",
   "metadata": {},
   "source": [
    "Feature Scaling"
   ]
  },
  {
   "cell_type": "code",
   "execution_count": 7,
   "metadata": {},
   "outputs": [],
   "source": [
    "from sklearn.preprocessing import StandardScaler\n",
    "sc = StandardScaler()\n",
    "X_train = sc.fit_transform(X_train)\n",
    "X_test = sc.transform(X_test)"
   ]
  },
  {
   "cell_type": "markdown",
   "metadata": {},
   "source": [
    "Building the ANN model"
   ]
  },
  {
   "cell_type": "markdown",
   "metadata": {},
   "source": [
    "Importing the Keras libraries and packages"
   ]
  },
  {
   "cell_type": "code",
   "execution_count": 9,
   "metadata": {},
   "outputs": [],
   "source": [
    "import keras\n",
    "from keras.models import Sequential\n",
    "from keras.layers import Dense\n",
    "from keras.layers import LeakyReLU,PReLU,ELU\n",
    "from keras.layers import Dropout"
   ]
  },
  {
   "cell_type": "markdown",
   "metadata": {},
   "source": [
    "Initialising the ANN"
   ]
  },
  {
   "cell_type": "code",
   "execution_count": 10,
   "metadata": {},
   "outputs": [],
   "source": [
    "classifier = Sequential()"
   ]
  },
  {
   "cell_type": "markdown",
   "metadata": {},
   "source": [
    "Adding the input layer and the first hidden layer"
   ]
  },
  {
   "cell_type": "code",
   "execution_count": 15,
   "metadata": {},
   "outputs": [],
   "source": [
    "classifier.add(Dense(6, kernel_initializer = 'he_uniform',activation='relu',input_dim = 11))"
   ]
  },
  {
   "cell_type": "markdown",
   "metadata": {},
   "source": [
    "Adding the second hidden layer"
   ]
  },
  {
   "cell_type": "code",
   "execution_count": 17,
   "metadata": {},
   "outputs": [],
   "source": [
    "classifier.add(Dense(6, kernel_initializer = 'he_uniform',activation='relu'))\n",
    "# Adding the output layer\n",
    "classifier.add(Dense(1, kernel_initializer = 'glorot_uniform', activation = 'sigmoid'))"
   ]
  },
  {
   "cell_type": "markdown",
   "metadata": {},
   "source": [
    "Compiling the ANN"
   ]
  },
  {
   "cell_type": "code",
   "execution_count": 22,
   "metadata": {},
   "outputs": [],
   "source": [
    "classifier.compile(optimizer = 'adam', loss = 'binary_crossentropy', metrics = ['accuracy'])"
   ]
  },
  {
   "cell_type": "markdown",
   "metadata": {},
   "source": [
    "Fitting the ANN to the Training set"
   ]
  },
  {
   "cell_type": "code",
   "execution_count": 23,
   "metadata": {},
   "outputs": [
    {
     "name": "stdout",
     "output_type": "stream",
     "text": [
      "Epoch 1/100\n",
      "536/536 [==============================] - 1s 2ms/step - loss: 0.3454 - accuracy: 0.8590 - val_loss: 0.3668 - val_accuracy: 0.8444\n",
      "Epoch 2/100\n",
      "536/536 [==============================] - 1s 1ms/step - loss: 0.3368 - accuracy: 0.8633 - val_loss: 0.3631 - val_accuracy: 0.8466\n",
      "Epoch 3/100\n",
      "536/536 [==============================] - 1s 1ms/step - loss: 0.3480 - accuracy: 0.8543 - val_loss: 0.3631 - val_accuracy: 0.8478\n",
      "Epoch 4/100\n",
      "536/536 [==============================] - 1s 1ms/step - loss: 0.3513 - accuracy: 0.8537 - val_loss: 0.3641 - val_accuracy: 0.8485\n",
      "Epoch 5/100\n",
      "536/536 [==============================] - 1s 2ms/step - loss: 0.3438 - accuracy: 0.8586 - val_loss: 0.3628 - val_accuracy: 0.8493\n",
      "Epoch 6/100\n",
      "536/536 [==============================] - 1s 1ms/step - loss: 0.3467 - accuracy: 0.8582 - val_loss: 0.3642 - val_accuracy: 0.8463\n",
      "Epoch 7/100\n",
      "536/536 [==============================] - 1s 1ms/step - loss: 0.3433 - accuracy: 0.8578 - val_loss: 0.3616 - val_accuracy: 0.8493\n",
      "Epoch 8/100\n",
      "536/536 [==============================] - 1s 1ms/step - loss: 0.3315 - accuracy: 0.8668 - val_loss: 0.3613 - val_accuracy: 0.8493\n",
      "Epoch 9/100\n",
      "536/536 [==============================] - 1s 1ms/step - loss: 0.3451 - accuracy: 0.8560 - val_loss: 0.3606 - val_accuracy: 0.8489\n",
      "Epoch 10/100\n",
      "536/536 [==============================] - 1s 2ms/step - loss: 0.3198 - accuracy: 0.8682 - val_loss: 0.3617 - val_accuracy: 0.8474\n",
      "Epoch 11/100\n",
      "536/536 [==============================] - 1s 1ms/step - loss: 0.3283 - accuracy: 0.8673 - val_loss: 0.3607 - val_accuracy: 0.8466\n",
      "Epoch 12/100\n",
      "536/536 [==============================] - 1s 1ms/step - loss: 0.3312 - accuracy: 0.8662 - val_loss: 0.3617 - val_accuracy: 0.8470\n",
      "Epoch 13/100\n",
      "536/536 [==============================] - 1s 1ms/step - loss: 0.3212 - accuracy: 0.8644 - val_loss: 0.3605 - val_accuracy: 0.8478\n",
      "Epoch 14/100\n",
      "536/536 [==============================] - 1s 2ms/step - loss: 0.3230 - accuracy: 0.8658 - val_loss: 0.3592 - val_accuracy: 0.8501\n",
      "Epoch 15/100\n",
      "536/536 [==============================] - 1s 2ms/step - loss: 0.3259 - accuracy: 0.8664 - val_loss: 0.3592 - val_accuracy: 0.8485\n",
      "Epoch 16/100\n",
      "536/536 [==============================] - 1s 2ms/step - loss: 0.3413 - accuracy: 0.8543 - val_loss: 0.3595 - val_accuracy: 0.8497\n",
      "Epoch 17/100\n",
      "536/536 [==============================] - 1s 1ms/step - loss: 0.3446 - accuracy: 0.8576 - val_loss: 0.3590 - val_accuracy: 0.8482\n",
      "Epoch 18/100\n",
      "536/536 [==============================] - 1s 1ms/step - loss: 0.3291 - accuracy: 0.8562 - val_loss: 0.3578 - val_accuracy: 0.8508\n",
      "Epoch 19/100\n",
      "536/536 [==============================] - 1s 2ms/step - loss: 0.3345 - accuracy: 0.8624 - val_loss: 0.3592 - val_accuracy: 0.8489\n",
      "Epoch 20/100\n",
      "536/536 [==============================] - 1s 1ms/step - loss: 0.3463 - accuracy: 0.8567 - val_loss: 0.3604 - val_accuracy: 0.8474\n",
      "Epoch 21/100\n",
      "536/536 [==============================] - 1s 1ms/step - loss: 0.3135 - accuracy: 0.8682 - val_loss: 0.3583 - val_accuracy: 0.8485\n",
      "Epoch 22/100\n",
      "536/536 [==============================] - 1s 1ms/step - loss: 0.3409 - accuracy: 0.8601 - val_loss: 0.3587 - val_accuracy: 0.8493\n",
      "Epoch 23/100\n",
      "536/536 [==============================] - 1s 1ms/step - loss: 0.3353 - accuracy: 0.8540 - val_loss: 0.3593 - val_accuracy: 0.8478\n",
      "Epoch 24/100\n",
      "536/536 [==============================] - 1s 1ms/step - loss: 0.3314 - accuracy: 0.8638 - val_loss: 0.3583 - val_accuracy: 0.8519\n",
      "Epoch 25/100\n",
      "536/536 [==============================] - 1s 1ms/step - loss: 0.3494 - accuracy: 0.8503 - val_loss: 0.3576 - val_accuracy: 0.8508\n",
      "Epoch 26/100\n",
      "536/536 [==============================] - 1s 1ms/step - loss: 0.3249 - accuracy: 0.8657 - val_loss: 0.3574 - val_accuracy: 0.8523\n",
      "Epoch 27/100\n",
      "536/536 [==============================] - 1s 1ms/step - loss: 0.3318 - accuracy: 0.8549 - val_loss: 0.3581 - val_accuracy: 0.8485\n",
      "Epoch 28/100\n",
      "536/536 [==============================] - 1s 1ms/step - loss: 0.3263 - accuracy: 0.8645 - val_loss: 0.3572 - val_accuracy: 0.8519\n",
      "Epoch 29/100\n",
      "536/536 [==============================] - 1s 1ms/step - loss: 0.3315 - accuracy: 0.8654 - val_loss: 0.3581 - val_accuracy: 0.8512\n",
      "Epoch 30/100\n",
      "536/536 [==============================] - 1s 2ms/step - loss: 0.3284 - accuracy: 0.8659 - val_loss: 0.3584 - val_accuracy: 0.8519\n",
      "Epoch 31/100\n",
      "536/536 [==============================] - 1s 2ms/step - loss: 0.3391 - accuracy: 0.8564 - val_loss: 0.3585 - val_accuracy: 0.8519\n",
      "Epoch 32/100\n",
      "536/536 [==============================] - 1s 2ms/step - loss: 0.3213 - accuracy: 0.8645 - val_loss: 0.3588 - val_accuracy: 0.8474\n",
      "Epoch 33/100\n",
      "536/536 [==============================] - 1s 2ms/step - loss: 0.3162 - accuracy: 0.8713 - val_loss: 0.3564 - val_accuracy: 0.8504\n",
      "Epoch 34/100\n",
      "536/536 [==============================] - 1s 1ms/step - loss: 0.3338 - accuracy: 0.8571 - val_loss: 0.3578 - val_accuracy: 0.8516\n",
      "Epoch 35/100\n",
      "536/536 [==============================] - 1s 1ms/step - loss: 0.3342 - accuracy: 0.8607 - val_loss: 0.3564 - val_accuracy: 0.8542\n",
      "Epoch 36/100\n",
      "536/536 [==============================] - 1s 2ms/step - loss: 0.3266 - accuracy: 0.8640 - val_loss: 0.3569 - val_accuracy: 0.8535\n",
      "Epoch 37/100\n",
      "536/536 [==============================] - 1s 2ms/step - loss: 0.3384 - accuracy: 0.8534 - val_loss: 0.3587 - val_accuracy: 0.8523\n",
      "Epoch 38/100\n",
      "536/536 [==============================] - 1s 1ms/step - loss: 0.3130 - accuracy: 0.8694 - val_loss: 0.3574 - val_accuracy: 0.8523\n",
      "Epoch 39/100\n",
      "536/536 [==============================] - 1s 1ms/step - loss: 0.3304 - accuracy: 0.8635 - val_loss: 0.3566 - val_accuracy: 0.8527\n",
      "Epoch 40/100\n",
      "536/536 [==============================] - 1s 1ms/step - loss: 0.3351 - accuracy: 0.8640 - val_loss: 0.3569 - val_accuracy: 0.8523\n",
      "Epoch 41/100\n",
      "536/536 [==============================] - 1s 1ms/step - loss: 0.3301 - accuracy: 0.8633 - val_loss: 0.3560 - val_accuracy: 0.8512\n",
      "Epoch 42/100\n",
      "536/536 [==============================] - 1s 1ms/step - loss: 0.3241 - accuracy: 0.8599 - val_loss: 0.3556 - val_accuracy: 0.8516\n",
      "Epoch 43/100\n",
      "536/536 [==============================] - 1s 2ms/step - loss: 0.3179 - accuracy: 0.8746 - val_loss: 0.3556 - val_accuracy: 0.8535\n",
      "Epoch 44/100\n",
      "536/536 [==============================] - 1s 2ms/step - loss: 0.3349 - accuracy: 0.8624 - val_loss: 0.3569 - val_accuracy: 0.8523\n",
      "Epoch 45/100\n",
      "536/536 [==============================] - 1s 1ms/step - loss: 0.3320 - accuracy: 0.8641 - val_loss: 0.3583 - val_accuracy: 0.8561\n",
      "Epoch 46/100\n",
      "536/536 [==============================] - 1s 2ms/step - loss: 0.3242 - accuracy: 0.8659 - val_loss: 0.3575 - val_accuracy: 0.8535\n",
      "Epoch 47/100\n",
      "536/536 [==============================] - 1s 2ms/step - loss: 0.3191 - accuracy: 0.8646 - val_loss: 0.3552 - val_accuracy: 0.8565\n",
      "Epoch 48/100\n",
      "536/536 [==============================] - 1s 1ms/step - loss: 0.3219 - accuracy: 0.8660 - val_loss: 0.3555 - val_accuracy: 0.8550\n",
      "Epoch 49/100\n",
      "536/536 [==============================] - 1s 1ms/step - loss: 0.3372 - accuracy: 0.8611 - val_loss: 0.3568 - val_accuracy: 0.8535\n",
      "Epoch 50/100\n",
      "536/536 [==============================] - 1s 2ms/step - loss: 0.3337 - accuracy: 0.8619 - val_loss: 0.3564 - val_accuracy: 0.8557\n",
      "Epoch 51/100\n",
      "536/536 [==============================] - 1s 1ms/step - loss: 0.3422 - accuracy: 0.8570 - val_loss: 0.3563 - val_accuracy: 0.8546\n",
      "Epoch 52/100\n",
      "536/536 [==============================] - 1s 1ms/step - loss: 0.3216 - accuracy: 0.8665 - val_loss: 0.3556 - val_accuracy: 0.8557\n",
      "Epoch 53/100\n",
      "536/536 [==============================] - 1s 1ms/step - loss: 0.3182 - accuracy: 0.8623 - val_loss: 0.3548 - val_accuracy: 0.8554\n",
      "Epoch 54/100\n",
      "536/536 [==============================] - 1s 1ms/step - loss: 0.3278 - accuracy: 0.8637 - val_loss: 0.3556 - val_accuracy: 0.8561\n",
      "Epoch 55/100\n",
      "536/536 [==============================] - 1s 1ms/step - loss: 0.3246 - accuracy: 0.8674 - val_loss: 0.3572 - val_accuracy: 0.8531\n",
      "Epoch 56/100\n",
      "536/536 [==============================] - 1s 1ms/step - loss: 0.3165 - accuracy: 0.8698 - val_loss: 0.3556 - val_accuracy: 0.8550\n",
      "Epoch 57/100\n",
      "536/536 [==============================] - 1s 1ms/step - loss: 0.3438 - accuracy: 0.8590 - val_loss: 0.3556 - val_accuracy: 0.8561\n"
     ]
    },
    {
     "name": "stdout",
     "output_type": "stream",
     "text": [
      "Epoch 58/100\n",
      "536/536 [==============================] - 1s 1ms/step - loss: 0.3260 - accuracy: 0.8629 - val_loss: 0.3575 - val_accuracy: 0.8527\n",
      "Epoch 59/100\n",
      "536/536 [==============================] - 1s 1ms/step - loss: 0.3247 - accuracy: 0.8624 - val_loss: 0.3569 - val_accuracy: 0.8531\n",
      "Epoch 60/100\n",
      "536/536 [==============================] - 1s 1ms/step - loss: 0.3262 - accuracy: 0.8592 - val_loss: 0.3562 - val_accuracy: 0.8554\n",
      "Epoch 61/100\n",
      "536/536 [==============================] - 1s 1ms/step - loss: 0.3296 - accuracy: 0.8627 - val_loss: 0.3560 - val_accuracy: 0.8512\n",
      "Epoch 62/100\n",
      "536/536 [==============================] - 1s 1ms/step - loss: 0.3261 - accuracy: 0.8683 - val_loss: 0.3539 - val_accuracy: 0.8531\n",
      "Epoch 63/100\n",
      "536/536 [==============================] - 1s 1ms/step - loss: 0.3313 - accuracy: 0.8614 - val_loss: 0.3555 - val_accuracy: 0.8554\n",
      "Epoch 64/100\n",
      "536/536 [==============================] - 1s 1ms/step - loss: 0.3328 - accuracy: 0.8618 - val_loss: 0.3570 - val_accuracy: 0.8535\n",
      "Epoch 65/100\n",
      "536/536 [==============================] - 1s 1ms/step - loss: 0.3278 - accuracy: 0.8643 - val_loss: 0.3556 - val_accuracy: 0.8523\n",
      "Epoch 66/100\n",
      "536/536 [==============================] - 1s 1ms/step - loss: 0.3194 - accuracy: 0.8664 - val_loss: 0.3546 - val_accuracy: 0.8550\n",
      "Epoch 67/100\n",
      "536/536 [==============================] - 1s 1ms/step - loss: 0.3226 - accuracy: 0.8708 - val_loss: 0.3566 - val_accuracy: 0.8535\n",
      "Epoch 68/100\n",
      "536/536 [==============================] - 1s 1ms/step - loss: 0.3169 - accuracy: 0.8665 - val_loss: 0.3560 - val_accuracy: 0.8546\n",
      "Epoch 69/100\n",
      "536/536 [==============================] - 1s 1ms/step - loss: 0.3263 - accuracy: 0.8666 - val_loss: 0.3571 - val_accuracy: 0.8531\n",
      "Epoch 70/100\n",
      "536/536 [==============================] - 1s 1ms/step - loss: 0.3285 - accuracy: 0.8662 - val_loss: 0.3563 - val_accuracy: 0.8535\n",
      "Epoch 71/100\n",
      "536/536 [==============================] - 1s 2ms/step - loss: 0.3216 - accuracy: 0.8645 - val_loss: 0.3547 - val_accuracy: 0.8554\n",
      "Epoch 72/100\n",
      "536/536 [==============================] - 1s 2ms/step - loss: 0.3214 - accuracy: 0.8610 - val_loss: 0.3554 - val_accuracy: 0.8554\n",
      "Epoch 73/100\n",
      "536/536 [==============================] - 1s 2ms/step - loss: 0.3270 - accuracy: 0.8573 - val_loss: 0.3551 - val_accuracy: 0.8546\n",
      "Epoch 74/100\n",
      "536/536 [==============================] - 1s 2ms/step - loss: 0.3291 - accuracy: 0.8603 - val_loss: 0.3554 - val_accuracy: 0.8535\n",
      "Epoch 75/100\n",
      "536/536 [==============================] - 1s 1ms/step - loss: 0.3260 - accuracy: 0.8624 - val_loss: 0.3563 - val_accuracy: 0.8527\n",
      "Epoch 76/100\n",
      "536/536 [==============================] - 1s 2ms/step - loss: 0.3180 - accuracy: 0.8673 - val_loss: 0.3555 - val_accuracy: 0.8569\n",
      "Epoch 77/100\n",
      "536/536 [==============================] - 1s 2ms/step - loss: 0.3260 - accuracy: 0.8642 - val_loss: 0.3560 - val_accuracy: 0.8550\n",
      "Epoch 78/100\n",
      "536/536 [==============================] - 1s 2ms/step - loss: 0.3269 - accuracy: 0.8625 - val_loss: 0.3566 - val_accuracy: 0.8546\n",
      "Epoch 79/100\n",
      "536/536 [==============================] - 1s 1ms/step - loss: 0.3261 - accuracy: 0.8612 - val_loss: 0.3577 - val_accuracy: 0.8569\n",
      "Epoch 80/100\n",
      "536/536 [==============================] - 1s 1ms/step - loss: 0.3296 - accuracy: 0.8676 - val_loss: 0.3556 - val_accuracy: 0.8561\n",
      "Epoch 81/100\n",
      "536/536 [==============================] - 1s 2ms/step - loss: 0.3261 - accuracy: 0.8639 - val_loss: 0.3538 - val_accuracy: 0.8565\n",
      "Epoch 82/100\n",
      "536/536 [==============================] - 1s 1ms/step - loss: 0.3241 - accuracy: 0.8614 - val_loss: 0.3542 - val_accuracy: 0.8550\n",
      "Epoch 83/100\n",
      "536/536 [==============================] - 1s 1ms/step - loss: 0.3253 - accuracy: 0.8699 - val_loss: 0.3556 - val_accuracy: 0.8550\n",
      "Epoch 84/100\n",
      "536/536 [==============================] - 1s 1ms/step - loss: 0.3240 - accuracy: 0.8673 - val_loss: 0.3541 - val_accuracy: 0.8550\n",
      "Epoch 85/100\n",
      "536/536 [==============================] - 1s 1ms/step - loss: 0.3280 - accuracy: 0.8569 - val_loss: 0.3549 - val_accuracy: 0.8550\n",
      "Epoch 86/100\n",
      "536/536 [==============================] - 1s 2ms/step - loss: 0.3139 - accuracy: 0.8690 - val_loss: 0.3551 - val_accuracy: 0.8554\n",
      "Epoch 87/100\n",
      "536/536 [==============================] - 1s 1ms/step - loss: 0.3268 - accuracy: 0.8616 - val_loss: 0.3564 - val_accuracy: 0.8550\n",
      "Epoch 88/100\n",
      "536/536 [==============================] - 1s 1ms/step - loss: 0.3254 - accuracy: 0.8661 - val_loss: 0.3582 - val_accuracy: 0.8546\n",
      "Epoch 89/100\n",
      "536/536 [==============================] - 1s 1ms/step - loss: 0.3275 - accuracy: 0.8646 - val_loss: 0.3567 - val_accuracy: 0.8557\n",
      "Epoch 90/100\n",
      "536/536 [==============================] - 1s 1ms/step - loss: 0.3194 - accuracy: 0.8684 - val_loss: 0.3559 - val_accuracy: 0.8557\n",
      "Epoch 91/100\n",
      "536/536 [==============================] - 1s 1ms/step - loss: 0.3346 - accuracy: 0.8562 - val_loss: 0.3559 - val_accuracy: 0.8557\n",
      "Epoch 92/100\n",
      "536/536 [==============================] - 1s 2ms/step - loss: 0.3342 - accuracy: 0.8635 - val_loss: 0.3544 - val_accuracy: 0.8573\n",
      "Epoch 93/100\n",
      "536/536 [==============================] - 1s 2ms/step - loss: 0.3284 - accuracy: 0.8630 - val_loss: 0.3585 - val_accuracy: 0.8542\n",
      "Epoch 94/100\n",
      "536/536 [==============================] - 1s 2ms/step - loss: 0.3424 - accuracy: 0.8556 - val_loss: 0.3552 - val_accuracy: 0.8538\n",
      "Epoch 95/100\n",
      "536/536 [==============================] - 1s 1ms/step - loss: 0.3176 - accuracy: 0.8667 - val_loss: 0.3548 - val_accuracy: 0.8565\n",
      "Epoch 96/100\n",
      "536/536 [==============================] - 1s 2ms/step - loss: 0.3391 - accuracy: 0.8542 - val_loss: 0.3556 - val_accuracy: 0.8550\n",
      "Epoch 97/100\n",
      "536/536 [==============================] - 1s 2ms/step - loss: 0.3192 - accuracy: 0.8675 - val_loss: 0.3556 - val_accuracy: 0.8561\n",
      "Epoch 98/100\n",
      "536/536 [==============================] - 1s 2ms/step - loss: 0.3293 - accuracy: 0.8646 - val_loss: 0.3554 - val_accuracy: 0.8565\n",
      "Epoch 99/100\n",
      "536/536 [==============================] - 1s 2ms/step - loss: 0.3302 - accuracy: 0.8664 - val_loss: 0.3565 - val_accuracy: 0.8565\n",
      "Epoch 100/100\n",
      "536/536 [==============================] - 1s 2ms/step - loss: 0.3292 - accuracy: 0.8640 - val_loss: 0.3543 - val_accuracy: 0.8569\n"
     ]
    }
   ],
   "source": [
    "model_history=classifier.fit(X_train, y_train,validation_split=0.33, batch_size = 10, epochs = 100)"
   ]
  },
  {
   "cell_type": "markdown",
   "metadata": {},
   "source": [
    "list all data in history"
   ]
  },
  {
   "cell_type": "code",
   "execution_count": 30,
   "metadata": {},
   "outputs": [
    {
     "name": "stdout",
     "output_type": "stream",
     "text": [
      "dict_keys(['loss', 'accuracy', 'val_loss', 'val_accuracy'])\n"
     ]
    },
    {
     "data": {
      "image/png": "[encoded data removed]",
      "text/plain": [
       "<Figure size 432x288 with 1 Axes>"
      ]
     },
     "metadata": {
      "needs_background": "light"
     },
     "output_type": "display_data"
    }
   ],
   "source": [
    "print(model_history.history.keys())\n",
    "# summarize history for accuracy\n",
    "plt.plot(model_history.history['accuracy'])\n",
    "plt.plot(model_history.history['val_accuracy'])\n",
    "plt.title('model accuracy')\n",
    "plt.ylabel('accuracy')\n",
    "plt.xlabel('epoch')\n",
    "plt.legend(['train', 'test'], loc='upper left')\n",
    "plt.show()"
   ]
  },
  {
   "cell_type": "markdown",
   "metadata": {},
   "source": [
    "summarize history for loss"
   ]
  },
  {
   "cell_type": "code",
   "execution_count": 31,
   "metadata": {},
   "outputs": [
    {
     "data": {
      "image/png": "[encoded data removed]",
      "text/plain": [
       "<Figure size 432x288 with 1 Axes>"
      ]
     },
     "metadata": {
      "needs_background": "light"
     },
     "output_type": "display_data"
    }
   ],
   "source": [
    "plt.plot(model_history.history['loss'])\n",
    "plt.plot(model_history.history['val_loss'])\n",
    "plt.title('model loss')\n",
    "plt.ylabel('loss')\n",
    "plt.xlabel('epoch')\n",
    "plt.legend(['train', 'test'], loc='upper left')\n",
    "plt.show()"
   ]
  },
  {
   "cell_type": "markdown",
   "metadata": {},
   "source": [
    "Part 3 - Making the predictions and evaluating the model"
   ]
  },
  {
   "cell_type": "markdown",
   "metadata": {},
   "source": [
    "Predicting the Test set results"
   ]
  },
  {
   "cell_type": "code",
   "execution_count": 25,
   "metadata": {},
   "outputs": [],
   "source": [
    "y_pred = classifier.predict(X_test)\n",
    "y_pred = (y_pred > 0.5)"
   ]
  },
  {
   "cell_type": "markdown",
   "metadata": {},
   "source": [
    "Making the Confusion Matrix"
   ]
  },
  {
   "cell_type": "code",
   "execution_count": 26,
   "metadata": {},
   "outputs": [],
   "source": [
    "from sklearn.metrics import confusion_matrix\n",
    "cm = confusion_matrix(y_test, y_pred)"
   ]
  },
  {
   "cell_type": "markdown",
   "metadata": {},
   "source": [
    "Calculate the Accuracy"
   ]
  },
  {
   "cell_type": "code",
   "execution_count": 27,
   "metadata": {},
   "outputs": [],
   "source": [
    "from sklearn.metrics import accuracy_score\n",
    "score=accuracy_score(y_pred,y_test)"
   ]
  },
  {
   "cell_type": "code",
   "execution_count": 28,
   "metadata": {},
   "outputs": [
    {
     "data": {
      "text/plain": [
       "0.859"
      ]
     },
     "execution_count": 28,
     "metadata": {},
     "output_type": "execute_result"
    }
   ],
   "source": [
    "score"
   ]
  },
  {
   "cell_type": "code",
   "execution_count": 29,
   "metadata": {},
   "outputs": [
    {
     "data": {
      "text/plain": [
       "array([[1508,   87],\n",
       "       [ 195,  210]], dtype=int64)"
      ]
     },
     "execution_count": 29,
     "metadata": {},
     "output_type": "execute_result"
    }
   ],
   "source": [
    "cm\n"
   ]
  },
  {
   "cell_type": "code",
   "execution_count": null,
   "metadata": {},
   "outputs": [],
   "source": []
  }
 ],
 "metadata": {
  "kernelspec": {
   "display_name": "Python 3",
   "language": "python",
   "name": "python3"
  },
  "language_info": {
   "codemirror_mode": {
    "name": "ipython",
    "version": 3
   },
   "file_extension": ".py",
   "mimetype": "text/x-python",
   "name": "python",
   "nbconvert_exporter": "python",
   "pygments_lexer": "ipython3",
   "version": "3.8.3"
  }
 },
 "nbformat": 4,
 "nbformat_minor": 2
}
